{
 "cells": [
  {
   "cell_type": "code",
   "execution_count": 1,
   "metadata": {},
   "outputs": [],
   "source": [
    "from pyspark import SparkContext, SparkConf"
   ]
  },
  {
   "cell_type": "code",
   "execution_count": 2,
   "metadata": {},
   "outputs": [],
   "source": [
    "import json"
   ]
  },
  {
   "cell_type": "code",
   "execution_count": 3,
   "metadata": {},
   "outputs": [],
   "source": [
    "conf = SparkConf().setAppName(\"word count\").setMaster(\"local[3]\")\n",
    "sc = SparkContext(conf = conf)"
   ]
  },
  {
   "cell_type": "code",
   "execution_count": 4,
   "metadata": {},
   "outputs": [],
   "source": [
    "lines = sc.textFile(\"./data/4300-0.txt,./data/pg*.txt\")"
   ]
  },
  {
   "cell_type": "code",
   "execution_count": 5,
   "metadata": {},
   "outputs": [],
   "source": [
    "counts = lines.flatMap(lambda line : line.split()).map(lambda word : (word.lower(), 1)).reduceByKey(lambda a, b : a + b)"
   ]
  },
  {
   "cell_type": "code",
   "execution_count": 6,
   "metadata": {},
   "outputs": [],
   "source": [
    "output = counts.filter(lambda x : x[1] > 2).takeOrdered(40, key=lambda x : -x[1])"
   ]
  },
  {
   "cell_type": "code",
   "execution_count": 7,
   "metadata": {
    "scrolled": true
   },
   "outputs": [
    {
     "data": {
      "text/plain": [
       "[('the', 78844),\n",
       " ('and', 45168),\n",
       " ('of', 44739),\n",
       " ('to', 33436),\n",
       " ('a', 24234),\n",
       " ('in', 22126),\n",
       " ('that', 14818),\n",
       " ('he', 13019),\n",
       " ('is', 12918),\n",
       " ('his', 12270),\n",
       " ('i', 11044),\n",
       " ('with', 10296),\n",
       " ('for', 10036),\n",
       " ('as', 9639),\n",
       " ('be', 8834),\n",
       " ('was', 8787),\n",
       " ('not', 8141),\n",
       " ('it', 8123),\n",
       " ('but', 7856),\n",
       " ('by', 7701),\n",
       " ('or', 7407),\n",
       " ('her', 7403),\n",
       " ('they', 6735),\n",
       " ('which', 6517),\n",
       " ('you', 6354),\n",
       " ('on', 6214),\n",
       " ('from', 5811),\n",
       " ('at', 5695),\n",
       " ('are', 5590),\n",
       " ('she', 5458),\n",
       " ('all', 5437),\n",
       " ('their', 5285),\n",
       " ('have', 5146),\n",
       " ('had', 4647),\n",
       " ('this', 4090),\n",
       " ('my', 3841),\n",
       " ('so', 3710),\n",
       " ('we', 3629),\n",
       " ('no', 3620),\n",
       " ('if', 3571)]"
      ]
     },
     "execution_count": 7,
     "metadata": {},
     "output_type": "execute_result"
    }
   ],
   "source": [
    "output"
   ]
  },
  {
   "cell_type": "code",
   "execution_count": 8,
   "metadata": {},
   "outputs": [],
   "source": [
    "output = dict(output)"
   ]
  },
  {
   "cell_type": "code",
   "execution_count": 9,
   "metadata": {},
   "outputs": [],
   "source": [
    "with open('sp1.json', 'w') as outfile:\n",
    "    json.dump(output, outfile)"
   ]
  },
  {
   "cell_type": "code",
   "execution_count": null,
   "metadata": {},
   "outputs": [],
   "source": []
  }
 ],
 "metadata": {
  "kernelspec": {
   "display_name": "Python 3",
   "language": "python",
   "name": "python3"
  },
  "language_info": {
   "codemirror_mode": {
    "name": "ipython",
    "version": 3
   },
   "file_extension": ".py",
   "mimetype": "text/x-python",
   "name": "python",
   "nbconvert_exporter": "python",
   "pygments_lexer": "ipython3",
   "version": "3.7.0"
  }
 },
 "nbformat": 4,
 "nbformat_minor": 2
}
